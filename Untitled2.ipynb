{
  "nbformat": 4,
  "nbformat_minor": 0,
  "metadata": {
    "colab": {
      "name": "Untitled2.ipynb",
      "provenance": [],
      "authorship_tag": "ABX9TyNPEQ7GyiULbPmilGfucSgQ",
      "include_colab_link": true
    },
    "kernelspec": {
      "name": "python3",
      "display_name": "Python 3"
    },
    "language_info": {
      "name": "python"
    }
  },
  "cells": [
    {
      "cell_type": "markdown",
      "metadata": {
        "id": "view-in-github",
        "colab_type": "text"
      },
      "source": [
        "<a href=\"https://colab.research.google.com/github/Nereydarcp/EJERCICIO-INTEGRADOR-2/blob/main/Untitled2.ipynb\" target=\"_parent\"><img src=\"https://colab.research.google.com/assets/colab-badge.svg\" alt=\"Open In Colab\"/></a>"
      ]
    },
    {
      "cell_type": "markdown",
      "source": [
        "# EJERCICIO INTEGRADOR NUMERO DOS"
      ],
      "metadata": {
        "id": "WphvsrNS9Mvd"
      }
    },
    {
      "cell_type": "markdown",
      "source": [
        "***IMPORTAR CSV Y OBTENER LOS 5 AEROPUETOS CON MAYOR CANTIDAD DE PASAJEROS A SINALOA***"
      ],
      "metadata": {
        "id": "fc0Q_Gfz9aDq"
      }
    },
    {
      "cell_type": "code",
      "execution_count": 7,
      "metadata": {
        "colab": {
          "base_uri": "https://localhost:8080/"
        },
        "id": "cutjj20b7ZFn",
        "outputId": "145b032d-ac22-415a-9efe-8b1dc2fecd45"
      },
      "outputs": [
        {
          "output_type": "stream",
          "name": "stdout",
          "text": [
            "Los 5 aeropuertos con mayor cantidad de vuelos a Sinaloa son:  ['TAM', 'UPN', 'MXL', 'CLQ', 'CME']\n"
          ]
        }
      ],
      "source": [
        "import csv\n",
        "\n",
        "Codigo_IATA = []\n",
        "Pasajeros = []\n",
        "with open(\"/content/ejerciciointegrador2.csv\", \"r\") as archivo_csv:\n",
        "  lector = csv.reader(archivo_csv)\n",
        " \n",
        "  for linea in lector: \n",
        "      if linea[2] == \"Codigo_IATA\":\n",
        "       continue\n",
        "      \n",
        "      Codigo_IATA.append(linea[2])\n",
        "    \n",
        "print(\"Los 5 aeropuertos con mayor cantidad de pasajeros a Sinaloa son: \", Codigo_IATA[0:5])"
      ]
    },
    {
      "cell_type": "markdown",
      "source": [
        "***PROMEDIO DEL TOTAL DE PASAJEROS ***\n"
      ],
      "metadata": {
        "id": "rbMPNrbO9Hew"
      }
    },
    {
      "cell_type": "code",
      "source": [
        "import csv\n",
        "\n",
        "pasajeros = []\n",
        "with open(\"ejerciciointegrador2.csv\", \"r\") as archivo_csv:\n",
        "  lector = csv.reader(archivo_csv)\n",
        " \n",
        "  for linea in lector: \n",
        "      if linea[3] == \"Pasajeros\":\n",
        "       continue\n",
        "      \n",
        "      pasajeros.append(int(linea[3]))\n",
        "    \n",
        "total_pasajeros = sum(pasajeros)\n",
        "len_pasajeros = len(pasajeros)\n",
        "print(\"El promedio total de pasajeros es de: \", total_pasajeros/len_pasajeros)"
      ],
      "metadata": {
        "colab": {
          "base_uri": "https://localhost:8080/"
        },
        "id": "Mls6g-eeAEAG",
        "outputId": "f226c871-525a-4496-e823-9cb0245f3bfd"
      },
      "execution_count": 35,
      "outputs": [
        {
          "output_type": "stream",
          "name": "stdout",
          "text": [
            "El promedio total de pasajeros es de:  2284.9523809523807\n"
          ]
        }
      ]
    },
    {
      "cell_type": "markdown",
      "source": [
        "***LOS 5 AEROPUERTOS CON MENOR CANTIDAD DE VUELOS A SINALOA***"
      ],
      "metadata": {
        "id": "vkJd8SYDD2z3"
      }
    },
    {
      "cell_type": "code",
      "source": [
        "import csv\n",
        "\n",
        "codigo_IATA = []\n",
        "with open(\"/content/ejerciciopractico21.csv\", \"r\") as archivo_csv:\n",
        "  lector = csv.reader(archivo_csv)\n",
        " \n",
        "  for linea in lector: \n",
        "      if linea[2] == \"Codigo_IATA\":\n",
        "       continue\n",
        "      \n",
        "      codigo_IATA.append(linea[2])\n",
        "    \n",
        "print(\"Los 5 aeropuertos con menor cantidad de vuelos a Sinaloa son: \",codigo_IATA[0:5])"
      ],
      "metadata": {
        "colab": {
          "base_uri": "https://localhost:8080/"
        },
        "id": "y8WFjqU3Cv-U",
        "outputId": "f50cfb39-58ba-42ec-ce40-6b7eceb955e4"
      },
      "execution_count": 41,
      "outputs": [
        {
          "output_type": "stream",
          "name": "stdout",
          "text": [
            "Los 5 aeropuertos con menor cantidad de vuelos a Sinaloa son:  ['LMM', 'MZT', 'CEN', 'CJT', 'SLW']\n"
          ]
        }
      ]
    }
  ]
}